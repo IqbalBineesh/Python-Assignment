{
 "cells": [
  {
   "cell_type": "code",
   "execution_count": 6,
   "metadata": {},
   "outputs": [
    {
     "name": "stdout",
     "output_type": "stream",
     "text": [
      "{'First Name': 'Bineesh', 'Last Name': 'Iqbal', 'Age': 21, 'city': 'Karachi'}\n",
      "{'First Name': 'Bineesh', 'Last Name': 'Iqbal', 'Age': 21, 'city': 'Karachi', 'Qualification': 'High Academic Level'}\n",
      "{'First Name': 'Bineesh', 'Last Name': 'Iqbal', 'Age': 21, 'city': 'Karachi'}\n"
     ]
    }
   ],
   "source": [
    "#Question No.1\n",
    "student = {\"First Name\": \"Bineesh\",\"Last Name\": \"Iqbal\", \"Age\": 21, \"city\": \"Karachi\"}\n",
    "print(student)\n",
    "student[\"Qualification\"] = \"High Academic Level\"\n",
    "print(student)\n",
    "del student[\"Qualification\"]\n",
    "print(student)"
   ]
  },
  {
   "cell_type": "code",
   "execution_count": 7,
   "metadata": {},
   "outputs": [
    {
     "name": "stdout",
     "output_type": "stream",
     "text": [
      "{'Information About': 'Islamabad', 'Country': 'Pakistan', 'Population': '12,188,000', 'fact': 'Capital of Pakistan'}\n",
      "{'Informatiom About': 'Iran', 'Country': 'Iran', 'Population': '9,013,663', 'fact': 'Capital of Iran'}\n",
      "{'Information About': 'Beijing', 'Country': 'China', 'Population': '1,433,783,686', 'fact': 'Capital of China'}\n"
     ]
    }
   ],
   "source": [
    "#Question No.2\n",
    "cities = {\n",
    "    \"Islamabad\": {\n",
    "        \"Information About\":\"Islamabad\",\n",
    "        \"Country\": \"Pakistan\",\n",
    "        \"Population\": \"12,188,000\",\n",
    "        \"fact\":\"Capital of Pakistan\",\n",
    "    },\n",
    "    \"Tehran\": {\n",
    "        \"Informatiom About\":\"Iran\",\n",
    "        \"Country\": \"Iran\",\n",
    "        \"Population\": \"9,013,663\",\n",
    "        \"fact\":\"Capital of Iran\"\n",
    "    },\n",
    "    \"Beijing\": {\n",
    "        \"Information About\":\"Beijing\",\n",
    "        \"Country\": \"China\",\n",
    "        \"Population\":\"1,433,783,686\",\n",
    "        \"fact\":\"Capital of China\",\n",
    "    }\n",
    "}\n",
    "print(cities[\"Islamabad\"])\n",
    "print(cities[\"Tehran\"])\n",
    "print(cities[\"Beijing\"])"
   ]
  },
  {
   "cell_type": "code",
   "execution_count": 4,
   "metadata": {},
   "outputs": [
    {
     "name": "stdout",
     "output_type": "stream",
     "text": [
      "Enter your age0\n",
      "Your ticket is free\n"
     ]
    }
   ],
   "source": [
    "#Question 3\n",
    "for i in range(3):\n",
    "    age = int(input(\"Enter your age\"))\n",
    "    if age <=3 :\n",
    "        print(\"Your ticket is free\")\n",
    "        break\n",
    "    elif age >=3 and age <=12:\n",
    "        print(\"Your ticket is $10\")\n",
    "        break\n",
    "    elif age > 12:\n",
    "        print(\"Your ticket is $15\")\n",
    "        break\n",
    "    else:\n",
    "        print(\"Enter correct age\")"
   ]
  },
  {
   "cell_type": "code",
   "execution_count": null,
   "metadata": {},
   "outputs": [],
   "source": [
    "#Question 4\n",
    "def favorite_book(title):\n",
    "    print(title + \"One of my favorite book.\")\n",
    "favorite_book(\"Alice Wonderland\")"
   ]
  },
  {
   "cell_type": "code",
   "execution_count": 7,
   "metadata": {},
   "outputs": [
    {
     "name": "stdout",
     "output_type": "stream",
     "text": [
      "Random number has been generated\n",
      "select a number between 1 and 10\n",
      "Enter your guess: 1\n",
      "your option is right\n"
     ]
    }
   ],
   "source": [
    "#Question 5\n",
    "import random\n",
    "a=random.randint(1,30)\n",
    "print(\"Random number has been generated\")\n",
    "if a>=1 and a < 10:\n",
    "    print(\"select a number between 1 and 10\")\n",
    "elif a >= 10 and a < 20:\n",
    "    print(\"select a number between 10 and 20\")\n",
    "elif a >= 20 and a < 30:\n",
    "    print(\"select a number between 20 and 30\")\n",
    "for i in range(0,3):\n",
    "    user = int(input(\"Enter your guess: \"))\n",
    "    if user < 1 or user > 30:\n",
    "        print(\"Select a number between 1 and 30\")\n",
    "    else:\n",
    "        if user == a:\n",
    "            print(\"your option is right\")\n",
    "            break\n",
    "        else:\n",
    "            print(\"Your option is wrong\")\n",
    "            print(\"retry\")"
   ]
  },
  {
   "cell_type": "code",
   "execution_count": null,
   "metadata": {},
   "outputs": [],
   "source": []
  }
 ],
 "metadata": {
  "kernelspec": {
   "display_name": "Python 3",
   "language": "python",
   "name": "python3"
  },
  "language_info": {
   "codemirror_mode": {
    "name": "ipython",
    "version": 3
   },
   "file_extension": ".py",
   "mimetype": "text/x-python",
   "name": "python",
   "nbconvert_exporter": "python",
   "pygments_lexer": "ipython3",
   "version": "3.7.4"
  }
 },
 "nbformat": 4,
 "nbformat_minor": 2
}
